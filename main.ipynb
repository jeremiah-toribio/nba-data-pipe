{
 "cells": [
  {
   "cell_type": "markdown",
   "metadata": {},
   "source": [
    "# Imports 📦"
   ]
  },
  {
   "cell_type": "code",
   "execution_count": 151,
   "metadata": {},
   "outputs": [],
   "source": [
    "import requests\n",
    "import json\n",
    "import pandas as pd\n",
    "import numpy as np\n",
    "import matplotlib.pyplot as plt\n",
    "import time\n",
    "from timeit import default_timer as timer\n",
    "from http import HTTPStatus\n",
    "from datetime import datetime\n",
    "import os\n",
    "# Sub your own keys\n",
    "import keys as k"
   ]
  },
  {
   "cell_type": "code",
   "execution_count": 21,
   "metadata": {},
   "outputs": [],
   "source": [
    "# predefined urls for different access points\n",
    "urls = {\n",
    "    'seasons': 'https://api-nba-v1.p.rapidapi.com/seasons/',\n",
    "    'games': 'https://api-nba-v1.p.rapidapi.com/games/',\n",
    "    'teams': 'https://api-nba-v1.p.rapidapi.com/teams/',\n",
    "    'players': 'https://api-nba-v1.p.rapidapi.com/players/'\n",
    "}\n",
    "season = '2023'"
   ]
  },
  {
   "cell_type": "code",
   "execution_count": 3,
   "metadata": {},
   "outputs": [],
   "source": [
    "# key headers\n",
    "headers = k.headers"
   ]
  },
  {
   "cell_type": "code",
   "execution_count": 50,
   "metadata": {},
   "outputs": [],
   "source": [
    "# function to generate api response\n",
    "def get_response(url, headers=None):\n",
    "    '''\n",
    "    Retrieving API response as well as checking for error codes, if any.\n",
    "    '''\n",
    "    try:\n",
    "        response = requests.get(url, headers=headers)\n",
    "        response.raise_for_status()  # Raises a HTTPError if the status is 4xx, 5xx\n",
    "    except requests.exceptions.HTTPError as http_err:\n",
    "        print(f'HTTP error occurred: {http_err}')\n",
    "    except requests.exceptions.RequestException as err:\n",
    "        print(f'Other error occurred: {err}')\n",
    "    else:\n",
    "        print('Success!')\n",
    "        return response.json()\n",
    "\n",
    "    return None"
   ]
  },
  {
   "cell_type": "markdown",
   "metadata": {},
   "source": [
    "# Retrieving Teams 🏁"
   ]
  },
  {
   "cell_type": "code",
   "execution_count": 185,
   "metadata": {},
   "outputs": [],
   "source": [
    "if not os.path.exists('nbaTeams.csv'):\n",
    "    teams = get_response(url = urls['teams'])\n",
    "else:\n",
    "    print('Retrieve teams from existing file.)')"
   ]
  },
  {
   "cell_type": "markdown",
   "metadata": {},
   "source": [
    "## Clean"
   ]
  },
  {
   "cell_type": "code",
   "execution_count": 186,
   "metadata": {},
   "outputs": [],
   "source": [
    "def clean_teams(df):\n",
    "    '''\n",
    "    Clean the teams data\n",
    "    '''\n",
    "    df = pd.DataFrame(data = teams['response'])\n",
    "    nbaTeams = df[df.nbaFranchise == True]\n",
    "    nbaTeams = nbaTeams[nbaTeams.name != 'Home Team Stephen A']\n",
    "    nbaTeams.reset_index(drop=True, inplace=True)\n",
    "\n",
    "    nbaTeams['standard'] = nbaTeams['leagues'].apply(lambda x: x.get('standard'))\n",
    "    nbaTeams['conference'] = nbaTeams['standard'].apply(lambda x: x.get('conference'))\n",
    "    nbaTeams['division'] = nbaTeams['standard'].apply(lambda x: x.get('division'))\n",
    "\n",
    "    nbaTeams = nbaTeams.drop(columns=['nbaFranchise', 'allStar','logo','standard','leagues'])\n",
    "\n",
    "\n",
    "    return nbaTeams"
   ]
  },
  {
   "cell_type": "code",
   "execution_count": null,
   "metadata": {},
   "outputs": [],
   "source": [
    "nbaTeams = clean_teams(teams)"
   ]
  },
  {
   "cell_type": "code",
   "execution_count": 161,
   "metadata": {},
   "outputs": [
    {
     "data": {
      "text/html": [
       "<div>\n",
       "<style scoped>\n",
       "    .dataframe tbody tr th:only-of-type {\n",
       "        vertical-align: middle;\n",
       "    }\n",
       "\n",
       "    .dataframe tbody tr th {\n",
       "        vertical-align: top;\n",
       "    }\n",
       "\n",
       "    .dataframe thead th {\n",
       "        text-align: right;\n",
       "    }\n",
       "</style>\n",
       "<table border=\"1\" class=\"dataframe\">\n",
       "  <thead>\n",
       "    <tr style=\"text-align: right;\">\n",
       "      <th></th>\n",
       "      <th>id</th>\n",
       "      <th>name</th>\n",
       "      <th>nickname</th>\n",
       "      <th>code</th>\n",
       "      <th>city</th>\n",
       "      <th>conference</th>\n",
       "      <th>division</th>\n",
       "    </tr>\n",
       "  </thead>\n",
       "  <tbody>\n",
       "    <tr>\n",
       "      <th>0</th>\n",
       "      <td>1</td>\n",
       "      <td>Atlanta Hawks</td>\n",
       "      <td>Hawks</td>\n",
       "      <td>ATL</td>\n",
       "      <td>Atlanta</td>\n",
       "      <td>East</td>\n",
       "      <td>Southeast</td>\n",
       "    </tr>\n",
       "    <tr>\n",
       "      <th>1</th>\n",
       "      <td>2</td>\n",
       "      <td>Boston Celtics</td>\n",
       "      <td>Celtics</td>\n",
       "      <td>BOS</td>\n",
       "      <td>Boston</td>\n",
       "      <td>East</td>\n",
       "      <td>Atlantic</td>\n",
       "    </tr>\n",
       "  </tbody>\n",
       "</table>\n",
       "</div>"
      ],
      "text/plain": [
       "   id            name nickname code     city conference   division\n",
       "0   1   Atlanta Hawks    Hawks  ATL  Atlanta       East  Southeast\n",
       "1   2  Boston Celtics  Celtics  BOS   Boston       East   Atlantic"
      ]
     },
     "execution_count": 161,
     "metadata": {},
     "output_type": "execute_result"
    }
   ],
   "source": [
    "nbaTeams.head(2)"
   ]
  },
  {
   "cell_type": "markdown",
   "metadata": {},
   "source": [
    "# Retrieving Team Stats 📊"
   ]
  },
  {
   "cell_type": "code",
   "execution_count": 174,
   "metadata": {},
   "outputs": [
    {
     "name": "stdout",
     "output_type": "stream",
     "text": [
      "1 -- Atlanta Hawks\n",
      "2 -- Boston Celtics\n",
      "4 -- Brooklyn Nets\n",
      "5 -- Charlotte Hornets\n",
      "6 -- Chicago Bulls\n",
      "7 -- Cleveland Cavaliers\n",
      "8 -- Dallas Mavericks\n",
      "9 -- Denver Nuggets\n",
      "10 -- Detroit Pistons\n",
      "11 -- Golden State Warriors\n",
      "14 -- Houston Rockets\n",
      "15 -- Indiana Pacers\n",
      "16 -- LA Clippers\n",
      "17 -- Los Angeles Lakers\n",
      "19 -- Memphis Grizzlies\n",
      "20 -- Miami Heat\n",
      "21 -- Milwaukee Bucks\n",
      "22 -- Minnesota Timberwolves\n",
      "23 -- New Orleans Pelicans\n",
      "24 -- New York Knicks\n",
      "25 -- Oklahoma City Thunder\n",
      "26 -- Orlando Magic\n",
      "27 -- Philadelphia 76ers\n",
      "28 -- Phoenix Suns\n",
      "29 -- Portland Trail Blazers\n",
      "30 -- Sacramento Kings\n",
      "31 -- San Antonio Spurs\n",
      "38 -- Toronto Raptors\n",
      "40 -- Utah Jazz\n",
      "41 -- Washington Wizards\n"
     ]
    }
   ],
   "source": [
    "# lets get all the teams we will be using's id\n",
    "teamIDs = []\n",
    "for i in nbaTeams['id']:\n",
    "    teamIDs.append(i)\n",
    "    print(f\"{i} -- {nbaTeams[nbaTeams['id'] == i]['name'].values[0]}\")"
   ]
  },
  {
   "cell_type": "code",
   "execution_count": 24,
   "metadata": {},
   "outputs": [
    {
     "name": "stdout",
     "output_type": "stream",
     "text": [
      "Success!\n"
     ]
    }
   ],
   "source": [
    "teamStats = get_response(url = urls['teams'] + \"statistics?season=\" + season + \"&id=\")"
   ]
  },
  {
   "cell_type": "code",
   "execution_count": 175,
   "metadata": {},
   "outputs": [],
   "source": [
    "def retrieve_teamStats(teamIDs, season = '2023', rateLimit = 10):\n",
    "    '''\n",
    "    Retrieve team statistics for the given season, for all teams with listed IDs.\n",
    "\n",
    "    The NBA actually has changed team names, API may have differently associated IDs for those names. (has not been confirmed)\n",
    "    '''\n",
    "    responses = []\n",
    "    counter = 0\n",
    "    totCounter = 0\n",
    "\n",
    "    for i in teamIDs:\n",
    "        # init timer\n",
    "        start = timer()\n",
    "\n",
    "        # counters\n",
    "        counter += 1\n",
    "        totCounter += 1\n",
    "\n",
    "        if counter > rateLimit:\n",
    "            time.sleep(70) # freemium API, 10 calls per minute\n",
    "            counter = 1\n",
    "        print(f\"Making request {totCounter} at {datetime.now().strftime('%Y-%m-%d %H:%M:%S')}\")\n",
    "        response = get_response(url = urls['teams'] + \"statistics?season=\" + season + \"&id=\" + str(i))\n",
    "        responses.append(response)\n",
    "        end = timer()\n",
    "        timeCount = round(end - start, 2)\n",
    "        print(f\"Request {counter}/10 took {timeCount} seconds.\\n|-----------------|\")\n",
    "    return responses"
   ]
  },
  {
   "cell_type": "code",
   "execution_count": 183,
   "metadata": {},
   "outputs": [
    {
     "name": "stdout",
     "output_type": "stream",
     "text": [
      "Data already exists, skipping retrieval.\n"
     ]
    }
   ],
   "source": [
    "if not os.path.exists('nbaTeams.csv'):\n",
    "    responses = retrieve_teamStats(teamIDs = teamIDs)\n",
    "else:\n",
    "    print(\"Data already exists, skipping retrieval.\")"
   ]
  },
  {
   "cell_type": "markdown",
   "metadata": {},
   "source": [
    "## Clean"
   ]
  },
  {
   "cell_type": "code",
   "execution_count": 176,
   "metadata": {},
   "outputs": [],
   "source": [
    "def clean_team_stats(responses):\n",
    "    '''\n",
    "    Remove some additional columns that the 2023 season may not be complete for.\n",
    "    Columns were entirely 0s.\n",
    "    '''\n",
    "    df = pd.concat([pd.DataFrame(r['response']) for r in responses], ignore_index=True)\n",
    "    df.drop(columns=['fastBreakPoints','pointsInPaint','biggestLead',\n",
    "                 'secondChancePoints','pointsOffTurnovers','longestRun'], inplace=True)\n",
    "    return df"
   ]
  },
  {
   "cell_type": "code",
   "execution_count": 184,
   "metadata": {},
   "outputs": [
    {
     "data": {
      "text/html": [
       "<div>\n",
       "<style scoped>\n",
       "    .dataframe tbody tr th:only-of-type {\n",
       "        vertical-align: middle;\n",
       "    }\n",
       "\n",
       "    .dataframe tbody tr th {\n",
       "        vertical-align: top;\n",
       "    }\n",
       "\n",
       "    .dataframe thead th {\n",
       "        text-align: right;\n",
       "    }\n",
       "</style>\n",
       "<table border=\"1\" class=\"dataframe\">\n",
       "  <thead>\n",
       "    <tr style=\"text-align: right;\">\n",
       "      <th></th>\n",
       "      <th>games</th>\n",
       "      <th>points</th>\n",
       "      <th>fgm</th>\n",
       "      <th>fga</th>\n",
       "      <th>fgp</th>\n",
       "      <th>ftm</th>\n",
       "      <th>fta</th>\n",
       "      <th>ftp</th>\n",
       "      <th>tpm</th>\n",
       "      <th>tpa</th>\n",
       "      <th>tpp</th>\n",
       "      <th>offReb</th>\n",
       "      <th>defReb</th>\n",
       "      <th>totReb</th>\n",
       "      <th>assists</th>\n",
       "      <th>pFouls</th>\n",
       "      <th>steals</th>\n",
       "      <th>turnovers</th>\n",
       "      <th>blocks</th>\n",
       "      <th>plusMinus</th>\n",
       "    </tr>\n",
       "  </thead>\n",
       "  <tbody>\n",
       "    <tr>\n",
       "      <th>0</th>\n",
       "      <td>88</td>\n",
       "      <td>10358</td>\n",
       "      <td>3766</td>\n",
       "      <td>8105</td>\n",
       "      <td>64.9</td>\n",
       "      <td>1628</td>\n",
       "      <td>2046</td>\n",
       "      <td>79.2</td>\n",
       "      <td>1198</td>\n",
       "      <td>3317</td>\n",
       "      <td>36.2</td>\n",
       "      <td>1083</td>\n",
       "      <td>2839</td>\n",
       "      <td>3922</td>\n",
       "      <td>2339</td>\n",
       "      <td>1631</td>\n",
       "      <td>676</td>\n",
       "      <td>1226</td>\n",
       "      <td>387</td>\n",
       "      <td>-205</td>\n",
       "    </tr>\n",
       "    <tr>\n",
       "      <th>1</th>\n",
       "      <td>97</td>\n",
       "      <td>11551</td>\n",
       "      <td>4201</td>\n",
       "      <td>8668</td>\n",
       "      <td>62.7</td>\n",
       "      <td>1574</td>\n",
       "      <td>1958</td>\n",
       "      <td>79.6</td>\n",
       "      <td>1575</td>\n",
       "      <td>4094</td>\n",
       "      <td>38.4</td>\n",
       "      <td>1036</td>\n",
       "      <td>3459</td>\n",
       "      <td>4495</td>\n",
       "      <td>2556</td>\n",
       "      <td>1572</td>\n",
       "      <td>658</td>\n",
       "      <td>1173</td>\n",
       "      <td>611</td>\n",
       "      <td>1097</td>\n",
       "    </tr>\n",
       "  </tbody>\n",
       "</table>\n",
       "</div>"
      ],
      "text/plain": [
       "   games  points   fgm   fga   fgp   ftm   fta   ftp   tpm   tpa   tpp  \\\n",
       "0     88   10358  3766  8105  64.9  1628  2046  79.2  1198  3317  36.2   \n",
       "1     97   11551  4201  8668  62.7  1574  1958  79.6  1575  4094  38.4   \n",
       "\n",
       "   offReb  defReb  totReb  assists  pFouls  steals  turnovers  blocks  \\\n",
       "0    1083    2839    3922     2339    1631     676       1226     387   \n",
       "1    1036    3459    4495     2556    1572     658       1173     611   \n",
       "\n",
       "   plusMinus  \n",
       "0       -205  \n",
       "1       1097  "
      ]
     },
     "execution_count": 184,
     "metadata": {},
     "output_type": "execute_result"
    }
   ],
   "source": [
    "df = clean_team_stats(responses = responses)\n",
    "df.head(2)\n"
   ]
  },
  {
   "cell_type": "code",
   "execution_count": 181,
   "metadata": {},
   "outputs": [
    {
     "data": {
      "text/html": [
       "<div>\n",
       "<style scoped>\n",
       "    .dataframe tbody tr th:only-of-type {\n",
       "        vertical-align: middle;\n",
       "    }\n",
       "\n",
       "    .dataframe tbody tr th {\n",
       "        vertical-align: top;\n",
       "    }\n",
       "\n",
       "    .dataframe thead th {\n",
       "        text-align: right;\n",
       "    }\n",
       "</style>\n",
       "<table border=\"1\" class=\"dataframe\">\n",
       "  <thead>\n",
       "    <tr style=\"text-align: right;\">\n",
       "      <th></th>\n",
       "      <th>id</th>\n",
       "      <th>name</th>\n",
       "      <th>nickname</th>\n",
       "      <th>code</th>\n",
       "      <th>city</th>\n",
       "      <th>conference</th>\n",
       "      <th>division</th>\n",
       "      <th>games</th>\n",
       "      <th>points</th>\n",
       "      <th>fgm</th>\n",
       "      <th>fga</th>\n",
       "      <th>fgp</th>\n",
       "      <th>ftm</th>\n",
       "      <th>fta</th>\n",
       "      <th>ftp</th>\n",
       "      <th>tpm</th>\n",
       "      <th>tpa</th>\n",
       "      <th>tpp</th>\n",
       "      <th>offReb</th>\n",
       "      <th>defReb</th>\n",
       "      <th>totReb</th>\n",
       "      <th>assists</th>\n",
       "      <th>pFouls</th>\n",
       "      <th>steals</th>\n",
       "      <th>turnovers</th>\n",
       "      <th>blocks</th>\n",
       "      <th>plusMinus</th>\n",
       "      <th>games</th>\n",
       "      <th>points</th>\n",
       "      <th>fgm</th>\n",
       "      <th>fga</th>\n",
       "      <th>fgp</th>\n",
       "      <th>ftm</th>\n",
       "      <th>fta</th>\n",
       "      <th>ftp</th>\n",
       "      <th>tpm</th>\n",
       "      <th>tpa</th>\n",
       "      <th>tpp</th>\n",
       "      <th>offReb</th>\n",
       "      <th>defReb</th>\n",
       "      <th>totReb</th>\n",
       "      <th>assists</th>\n",
       "      <th>pFouls</th>\n",
       "      <th>steals</th>\n",
       "      <th>turnovers</th>\n",
       "      <th>blocks</th>\n",
       "      <th>plusMinus</th>\n",
       "    </tr>\n",
       "  </thead>\n",
       "  <tbody>\n",
       "    <tr>\n",
       "      <th>0</th>\n",
       "      <td>1</td>\n",
       "      <td>Atlanta Hawks</td>\n",
       "      <td>Hawks</td>\n",
       "      <td>ATL</td>\n",
       "      <td>Atlanta</td>\n",
       "      <td>East</td>\n",
       "      <td>Southeast</td>\n",
       "      <td>88</td>\n",
       "      <td>10358</td>\n",
       "      <td>3766</td>\n",
       "      <td>8105</td>\n",
       "      <td>64.9</td>\n",
       "      <td>1628</td>\n",
       "      <td>2046</td>\n",
       "      <td>79.2</td>\n",
       "      <td>1198</td>\n",
       "      <td>3317</td>\n",
       "      <td>36.2</td>\n",
       "      <td>1083</td>\n",
       "      <td>2839</td>\n",
       "      <td>3922</td>\n",
       "      <td>2339</td>\n",
       "      <td>1631</td>\n",
       "      <td>676</td>\n",
       "      <td>1226</td>\n",
       "      <td>387</td>\n",
       "      <td>-205</td>\n",
       "      <td>88</td>\n",
       "      <td>10358</td>\n",
       "      <td>3766</td>\n",
       "      <td>8105</td>\n",
       "      <td>64.9</td>\n",
       "      <td>1628</td>\n",
       "      <td>2046</td>\n",
       "      <td>79.2</td>\n",
       "      <td>1198</td>\n",
       "      <td>3317</td>\n",
       "      <td>36.2</td>\n",
       "      <td>1083</td>\n",
       "      <td>2839</td>\n",
       "      <td>3922</td>\n",
       "      <td>2339</td>\n",
       "      <td>1631</td>\n",
       "      <td>676</td>\n",
       "      <td>1226</td>\n",
       "      <td>387</td>\n",
       "      <td>-205</td>\n",
       "    </tr>\n",
       "    <tr>\n",
       "      <th>1</th>\n",
       "      <td>2</td>\n",
       "      <td>Boston Celtics</td>\n",
       "      <td>Celtics</td>\n",
       "      <td>BOS</td>\n",
       "      <td>Boston</td>\n",
       "      <td>East</td>\n",
       "      <td>Atlantic</td>\n",
       "      <td>97</td>\n",
       "      <td>11551</td>\n",
       "      <td>4201</td>\n",
       "      <td>8668</td>\n",
       "      <td>62.7</td>\n",
       "      <td>1574</td>\n",
       "      <td>1958</td>\n",
       "      <td>79.6</td>\n",
       "      <td>1575</td>\n",
       "      <td>4094</td>\n",
       "      <td>38.4</td>\n",
       "      <td>1036</td>\n",
       "      <td>3459</td>\n",
       "      <td>4495</td>\n",
       "      <td>2556</td>\n",
       "      <td>1572</td>\n",
       "      <td>658</td>\n",
       "      <td>1173</td>\n",
       "      <td>611</td>\n",
       "      <td>1097</td>\n",
       "      <td>97</td>\n",
       "      <td>11551</td>\n",
       "      <td>4201</td>\n",
       "      <td>8668</td>\n",
       "      <td>62.7</td>\n",
       "      <td>1574</td>\n",
       "      <td>1958</td>\n",
       "      <td>79.6</td>\n",
       "      <td>1575</td>\n",
       "      <td>4094</td>\n",
       "      <td>38.4</td>\n",
       "      <td>1036</td>\n",
       "      <td>3459</td>\n",
       "      <td>4495</td>\n",
       "      <td>2556</td>\n",
       "      <td>1572</td>\n",
       "      <td>658</td>\n",
       "      <td>1173</td>\n",
       "      <td>611</td>\n",
       "      <td>1097</td>\n",
       "    </tr>\n",
       "  </tbody>\n",
       "</table>\n",
       "</div>"
      ],
      "text/plain": [
       "   id            name nickname code     city conference   division  games  \\\n",
       "0   1   Atlanta Hawks    Hawks  ATL  Atlanta       East  Southeast     88   \n",
       "1   2  Boston Celtics  Celtics  BOS   Boston       East   Atlantic     97   \n",
       "\n",
       "   points   fgm   fga   fgp   ftm   fta   ftp   tpm   tpa   tpp  offReb  \\\n",
       "0   10358  3766  8105  64.9  1628  2046  79.2  1198  3317  36.2    1083   \n",
       "1   11551  4201  8668  62.7  1574  1958  79.6  1575  4094  38.4    1036   \n",
       "\n",
       "   defReb  totReb  assists  pFouls  steals  turnovers  blocks  plusMinus  \\\n",
       "0    2839    3922     2339    1631     676       1226     387       -205   \n",
       "1    3459    4495     2556    1572     658       1173     611       1097   \n",
       "\n",
       "   games  points   fgm   fga   fgp   ftm   fta   ftp   tpm   tpa   tpp  \\\n",
       "0     88   10358  3766  8105  64.9  1628  2046  79.2  1198  3317  36.2   \n",
       "1     97   11551  4201  8668  62.7  1574  1958  79.6  1575  4094  38.4   \n",
       "\n",
       "   offReb  defReb  totReb  assists  pFouls  steals  turnovers  blocks  \\\n",
       "0    1083    2839    3922     2339    1631     676       1226     387   \n",
       "1    1036    3459    4495     2556    1572     658       1173     611   \n",
       "\n",
       "   plusMinus  \n",
       "0       -205  \n",
       "1       1097  "
      ]
     },
     "execution_count": 181,
     "metadata": {},
     "output_type": "execute_result"
    }
   ],
   "source": [
    "nbaTeams = pd.concat([nbaTeams, df], axis=1)\n",
    "nbaTeams.head(2)"
   ]
  },
  {
   "cell_type": "markdown",
   "metadata": {},
   "source": [
    "# Cache 💰"
   ]
  },
  {
   "cell_type": "code",
   "execution_count": null,
   "metadata": {},
   "outputs": [],
   "source": [
    "if not os.path.exists('nbaTeams.csv'):\n",
    "    nbaTeams.to_csv('nbaTeams.csv', index=False)\n",
    "else:\n",
    "    print(\"Data already exists, skipping save.\")"
   ]
  },
  {
   "cell_type": "markdown",
   "metadata": {},
   "source": [
    "# Getting Player Stats"
   ]
  },
  {
   "cell_type": "markdown",
   "metadata": {},
   "source": []
  }
 ],
 "metadata": {
  "kernelspec": {
   "display_name": "codeup",
   "language": "python",
   "name": "python3"
  },
  "language_info": {
   "codemirror_mode": {
    "name": "ipython",
    "version": 3
   },
   "file_extension": ".py",
   "mimetype": "text/x-python",
   "name": "python",
   "nbconvert_exporter": "python",
   "pygments_lexer": "ipython3",
   "version": "3.11.4"
  }
 },
 "nbformat": 4,
 "nbformat_minor": 2
}
